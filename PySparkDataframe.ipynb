{
 "cells": [
  {
   "cell_type": "code",
   "execution_count": 1,
   "id": "6b4f98c7-d622-441e-ac95-738b2d2f925c",
   "metadata": {},
   "outputs": [
    {
     "name": "stderr",
     "output_type": "stream",
     "text": [
      "Setting default log level to \"WARN\".\n",
      "To adjust logging level use sc.setLogLevel(newLevel). For SparkR, use setLogLevel(newLevel).\n",
      "24/05/04 13:46:05 WARN NativeCodeLoader: Unable to load native-hadoop library for your platform... using builtin-java classes where applicable\n"
     ]
    }
   ],
   "source": [
    "from pyspark.sql import SparkSession\n",
    "spark = SparkSession.builder.getOrCreate()"
   ]
  },
  {
   "cell_type": "code",
   "execution_count": 2,
   "id": "35a30aa4-b0e8-438b-bb88-aa0fdd974631",
   "metadata": {},
   "outputs": [
    {
     "data": {
      "text/html": [
       "\n",
       "            <div>\n",
       "                <p><b>SparkSession - in-memory</b></p>\n",
       "                \n",
       "        <div>\n",
       "            <p><b>SparkContext</b></p>\n",
       "\n",
       "            <p><a href=\"http://anjus-mbp:4040\">Spark UI</a></p>\n",
       "\n",
       "            <dl>\n",
       "              <dt>Version</dt>\n",
       "                <dd><code>v3.5.1</code></dd>\n",
       "              <dt>Master</dt>\n",
       "                <dd><code>local[*]</code></dd>\n",
       "              <dt>AppName</dt>\n",
       "                <dd><code>pyspark-shell</code></dd>\n",
       "            </dl>\n",
       "        </div>\n",
       "        \n",
       "            </div>\n",
       "        "
      ],
      "text/plain": [
       "<pyspark.sql.session.SparkSession at 0x1051aec50>"
      ]
     },
     "execution_count": 2,
     "metadata": {},
     "output_type": "execute_result"
    }
   ],
   "source": [
    "spark"
   ]
  },
  {
   "cell_type": "markdown",
   "id": "01a75a92-8106-4808-8077-708c3f192fcb",
   "metadata": {},
   "source": [
    "# create spark dataframe"
   ]
  },
  {
   "cell_type": "code",
   "execution_count": 3,
   "id": "15855e19-4aea-42de-bb28-20011f61d111",
   "metadata": {},
   "outputs": [],
   "source": [
    "from pyspark.sql import Row\n",
    "from datetime import datetime, date"
   ]
  },
  {
   "cell_type": "code",
   "execution_count": 8,
   "id": "23a6532c-c95f-4cf7-8ba8-1fecc5376d69",
   "metadata": {},
   "outputs": [],
   "source": [
    "df = spark.createDataFrame(\n",
    "    [\n",
    "        Row(a = 1, b = 2., c='str1', d=date(2024,5,4), e=datetime(2024,5,4,12,0)),\n",
    "        Row(a = 2, b= 3.0, c='test2', d=date(2024,5,7), e=datetime(2024,5,4,1,2))\n",
    "    ]\n",
    ")"
   ]
  },
  {
   "cell_type": "code",
   "execution_count": 9,
   "id": "a1b014fb-c43e-4077-8800-9b4b79f14f7f",
   "metadata": {},
   "outputs": [
    {
     "data": {
      "text/plain": [
       "DataFrame[a: bigint, b: double, c: string, d: date, e: timestamp]"
      ]
     },
     "execution_count": 9,
     "metadata": {},
     "output_type": "execute_result"
    }
   ],
   "source": [
    "df"
   ]
  },
  {
   "cell_type": "code",
   "execution_count": 19,
   "id": "0a16666b-a083-42d4-bbc4-2eb418a53e1e",
   "metadata": {},
   "outputs": [],
   "source": [
    "df = spark.createDataFrame(\n",
    "    [\n",
    "        Row(a = 1, b = 2., c='str1', d=date(2024,5,4), e=datetime(2024,5,4,12,0)),\n",
    "        Row(a = 2, b= 3.0, c='test2', d=date(2024,5,7), e=datetime(2024,5,4,1,2))\n",
    "    ],\n",
    "    schema = 'a string, b double, c string, d date, e timestamp'\n",
    ")"
   ]
  },
  {
   "cell_type": "code",
   "execution_count": 20,
   "id": "03d652ce-1fc8-44d1-bf96-d2b8ba1f674b",
   "metadata": {},
   "outputs": [
    {
     "data": {
      "text/plain": [
       "DataFrame[a: string, b: double, c: string, d: date, e: timestamp]"
      ]
     },
     "execution_count": 20,
     "metadata": {},
     "output_type": "execute_result"
    }
   ],
   "source": [
    "df"
   ]
  },
  {
   "cell_type": "code",
   "execution_count": 22,
   "id": "43dc58ad-687a-4e2f-9df1-8a3c43f68e1e",
   "metadata": {},
   "outputs": [],
   "source": [
    "import pandas as pd"
   ]
  },
  {
   "cell_type": "code",
   "execution_count": 25,
   "id": "cdef9e20-f069-4e3f-8148-a75b909aab7b",
   "metadata": {},
   "outputs": [],
   "source": [
    "pd_df = pd.DataFrame({\n",
    "    'a': [1,2],\n",
    "    'b': [2., 3.0],\n",
    "    'c': ['str1', 'test2'],\n",
    "    'd': [date(2024,5,4),date(2024,5,7)],\n",
    "    'e': [datetime(2024,5,4,12,0),datetime(2024,5,4,1,2)]\n",
    "})\n",
    "df = spark.createDataFrame(pd_df)"
   ]
  },
  {
   "cell_type": "code",
   "execution_count": 26,
   "id": "de6bbd55-d35c-48cd-a642-05c219fc4c88",
   "metadata": {},
   "outputs": [
    {
     "data": {
      "text/plain": [
       "DataFrame[a: bigint, b: double, c: string, d: date, e: timestamp]"
      ]
     },
     "execution_count": 26,
     "metadata": {},
     "output_type": "execute_result"
    }
   ],
   "source": [
    "df"
   ]
  },
  {
   "cell_type": "code",
   "execution_count": 27,
   "id": "e8991688-24f0-455c-9d1e-ede4805c4c1d",
   "metadata": {},
   "outputs": [
    {
     "name": "stderr",
     "output_type": "stream",
     "text": [
      "                                                                                \r"
     ]
    },
    {
     "name": "stdout",
     "output_type": "stream",
     "text": [
      "+---+---+-----+----------+-------------------+\n",
      "|  a|  b|    c|         d|                  e|\n",
      "+---+---+-----+----------+-------------------+\n",
      "|  1|2.0| str1|2024-05-04|2024-05-04 12:00:00|\n",
      "|  2|3.0|test2|2024-05-07|2024-05-04 01:02:00|\n",
      "+---+---+-----+----------+-------------------+\n",
      "\n"
     ]
    }
   ],
   "source": [
    "df.show()"
   ]
  },
  {
   "cell_type": "code",
   "execution_count": 28,
   "id": "1588eba2-143e-49c3-8b78-eadbab11af5d",
   "metadata": {},
   "outputs": [
    {
     "name": "stdout",
     "output_type": "stream",
     "text": [
      "root\n",
      " |-- a: long (nullable = true)\n",
      " |-- b: double (nullable = true)\n",
      " |-- c: string (nullable = true)\n",
      " |-- d: date (nullable = true)\n",
      " |-- e: timestamp (nullable = true)\n",
      "\n"
     ]
    }
   ],
   "source": [
    "df.printSchema()"
   ]
  },
  {
   "cell_type": "code",
   "execution_count": 29,
   "id": "f50f782f-a932-457d-991d-76dce2c4cb95",
   "metadata": {},
   "outputs": [
    {
     "name": "stdout",
     "output_type": "stream",
     "text": [
      "+---+---+----+----------+-------------------+\n",
      "|  a|  b|   c|         d|                  e|\n",
      "+---+---+----+----------+-------------------+\n",
      "|  1|2.0|str1|2024-05-04|2024-05-04 12:00:00|\n",
      "+---+---+----+----------+-------------------+\n",
      "only showing top 1 row\n",
      "\n"
     ]
    }
   ],
   "source": [
    "df.show(1)"
   ]
  },
  {
   "cell_type": "code",
   "execution_count": 30,
   "id": "c95af79e-bc1a-4dc6-9bff-b29c2d574660",
   "metadata": {},
   "outputs": [
    {
     "name": "stdout",
     "output_type": "stream",
     "text": [
      "-RECORD 0------------------\n",
      " a   | 1                   \n",
      " b   | 2.0                 \n",
      " c   | str1                \n",
      " d   | 2024-05-04          \n",
      " e   | 2024-05-04 12:00:00 \n",
      "only showing top 1 row\n",
      "\n"
     ]
    }
   ],
   "source": [
    "df.show(1,vertical=True)"
   ]
  },
  {
   "cell_type": "code",
   "execution_count": 31,
   "id": "af9d127b-0ff7-413b-8b34-e3acee3977fe",
   "metadata": {},
   "outputs": [
    {
     "data": {
      "text/plain": [
       "['a', 'b', 'c', 'd', 'e']"
      ]
     },
     "execution_count": 31,
     "metadata": {},
     "output_type": "execute_result"
    }
   ],
   "source": [
    "df.columns"
   ]
  },
  {
   "cell_type": "markdown",
   "id": "d29f29a0-5624-4086-89d5-e79a4a049191",
   "metadata": {},
   "source": [
    "# spark select columns and show"
   ]
  },
  {
   "cell_type": "code",
   "execution_count": 32,
   "id": "7c0566ab-1958-4b4a-bff5-36df41dd5220",
   "metadata": {},
   "outputs": [
    {
     "name": "stdout",
     "output_type": "stream",
     "text": [
      "+---+---+\n",
      "|  a|  b|\n",
      "+---+---+\n",
      "|  1|2.0|\n",
      "|  2|3.0|\n",
      "+---+---+\n",
      "\n"
     ]
    }
   ],
   "source": [
    "df.select(['a','b']).show()"
   ]
  },
  {
   "cell_type": "code",
   "execution_count": 34,
   "id": "58a4f444-da77-44f1-898b-a7b9a5f59030",
   "metadata": {},
   "outputs": [
    {
     "name": "stderr",
     "output_type": "stream",
     "text": [
      "[Stage 12:>                                                         (0 + 8) / 8]\r"
     ]
    },
    {
     "name": "stdout",
     "output_type": "stream",
     "text": [
      "+-------+------------------+------------------+-----+\n",
      "|summary|                 a|                 b|    c|\n",
      "+-------+------------------+------------------+-----+\n",
      "|  count|                 2|                 2|    2|\n",
      "|   mean|               1.5|               2.5| NULL|\n",
      "| stddev|0.7071067811865476|0.7071067811865476| NULL|\n",
      "|    min|                 1|               2.0| str1|\n",
      "|    max|                 2|               3.0|test2|\n",
      "+-------+------------------+------------------+-----+\n",
      "\n"
     ]
    },
    {
     "name": "stderr",
     "output_type": "stream",
     "text": [
      "                                                                                \r"
     ]
    }
   ],
   "source": [
    "df.select(df.columns).describe().show()"
   ]
  },
  {
   "cell_type": "code",
   "execution_count": 35,
   "id": "a80d64f2-86c4-4c6d-8b9f-ae7dfcdde72f",
   "metadata": {},
   "outputs": [
    {
     "data": {
      "text/plain": [
       "[Row(a=1, b=2.0, c='str1', d=datetime.date(2024, 5, 4), e=datetime.datetime(2024, 5, 4, 12, 0)),\n",
       " Row(a=2, b=3.0, c='test2', d=datetime.date(2024, 5, 7), e=datetime.datetime(2024, 5, 4, 1, 2))]"
      ]
     },
     "execution_count": 35,
     "metadata": {},
     "output_type": "execute_result"
    }
   ],
   "source": [
    "df.collect()"
   ]
  },
  {
   "cell_type": "code",
   "execution_count": 36,
   "id": "0594caf1-a5b2-4a38-9b66-4919875d0f89",
   "metadata": {},
   "outputs": [
    {
     "data": {
      "text/html": [
       "<div>\n",
       "<style scoped>\n",
       "    .dataframe tbody tr th:only-of-type {\n",
       "        vertical-align: middle;\n",
       "    }\n",
       "\n",
       "    .dataframe tbody tr th {\n",
       "        vertical-align: top;\n",
       "    }\n",
       "\n",
       "    .dataframe thead th {\n",
       "        text-align: right;\n",
       "    }\n",
       "</style>\n",
       "<table border=\"1\" class=\"dataframe\">\n",
       "  <thead>\n",
       "    <tr style=\"text-align: right;\">\n",
       "      <th></th>\n",
       "      <th>a</th>\n",
       "      <th>b</th>\n",
       "      <th>c</th>\n",
       "      <th>d</th>\n",
       "      <th>e</th>\n",
       "    </tr>\n",
       "  </thead>\n",
       "  <tbody>\n",
       "    <tr>\n",
       "      <th>0</th>\n",
       "      <td>1</td>\n",
       "      <td>2.0</td>\n",
       "      <td>str1</td>\n",
       "      <td>2024-05-04</td>\n",
       "      <td>2024-05-04 12:00:00</td>\n",
       "    </tr>\n",
       "    <tr>\n",
       "      <th>1</th>\n",
       "      <td>2</td>\n",
       "      <td>3.0</td>\n",
       "      <td>test2</td>\n",
       "      <td>2024-05-07</td>\n",
       "      <td>2024-05-04 01:02:00</td>\n",
       "    </tr>\n",
       "  </tbody>\n",
       "</table>\n",
       "</div>"
      ],
      "text/plain": [
       "   a    b      c           d                   e\n",
       "0  1  2.0   str1  2024-05-04 2024-05-04 12:00:00\n",
       "1  2  3.0  test2  2024-05-07 2024-05-04 01:02:00"
      ]
     },
     "execution_count": 36,
     "metadata": {},
     "output_type": "execute_result"
    }
   ],
   "source": [
    "df.toPandas()"
   ]
  },
  {
   "cell_type": "markdown",
   "id": "ee888b61-4805-4d51-9755-1029028e43c6",
   "metadata": {},
   "source": [
    "# spark functions"
   ]
  },
  {
   "cell_type": "code",
   "execution_count": 39,
   "id": "6379384c-3cd1-4106-90a1-51049e523fb7",
   "metadata": {},
   "outputs": [],
   "source": [
    "from pyspark.sql.functions import upper"
   ]
  },
  {
   "cell_type": "code",
   "execution_count": 40,
   "id": "e55a2f62-3a56-4fc6-841f-a97fe536cae0",
   "metadata": {},
   "outputs": [
    {
     "name": "stdout",
     "output_type": "stream",
     "text": [
      "+---+---+-----+----------+-------------------+-------+\n",
      "|  a|  b|    c|         d|                  e|upper_c|\n",
      "+---+---+-----+----------+-------------------+-------+\n",
      "|  1|2.0| str1|2024-05-04|2024-05-04 12:00:00|   STR1|\n",
      "|  2|3.0|test2|2024-05-07|2024-05-04 01:02:00|  TEST2|\n",
      "+---+---+-----+----------+-------------------+-------+\n",
      "\n"
     ]
    }
   ],
   "source": [
    "df.withColumn('upper_c', upper(df.c)).show()"
   ]
  },
  {
   "cell_type": "code",
   "execution_count": 41,
   "id": "d8285ea3-19ff-4ad1-be05-4eaa394f336c",
   "metadata": {},
   "outputs": [
    {
     "name": "stdout",
     "output_type": "stream",
     "text": [
      "+---+---+----+----------+-------------------+\n",
      "|  a|  b|   c|         d|                  e|\n",
      "+---+---+----+----------+-------------------+\n",
      "|  1|2.0|str1|2024-05-04|2024-05-04 12:00:00|\n",
      "+---+---+----+----------+-------------------+\n",
      "\n"
     ]
    }
   ],
   "source": [
    "df.filter(df.a == 1).show()"
   ]
  },
  {
   "cell_type": "code",
   "execution_count": 42,
   "id": "2ae89e62-4cf4-4b3d-9bf7-7fc9d326a1c8",
   "metadata": {},
   "outputs": [
    {
     "name": "stdout",
     "output_type": "stream",
     "text": [
      "+---+---+----+----------+-------------------+-------+\n",
      "|  a|  b|   c|         d|                  e|upper_c|\n",
      "+---+---+----+----------+-------------------+-------+\n",
      "|  1|2.0|str1|2024-05-04|2024-05-04 12:00:00|   STR1|\n",
      "+---+---+----+----------+-------------------+-------+\n",
      "\n"
     ]
    }
   ],
   "source": [
    "df.withColumn('upper_c', upper(df.c)).filter(df.a == 1).show()"
   ]
  },
  {
   "cell_type": "markdown",
   "id": "1aef67ac-0a4d-44d6-a16b-072947797dca",
   "metadata": {},
   "source": [
    "# spark transformation udf"
   ]
  },
  {
   "cell_type": "code",
   "execution_count": 46,
   "id": "fd4fa0be-5abc-4097-aea4-3998c497487a",
   "metadata": {},
   "outputs": [],
   "source": [
    "from pyspark.sql.functions import pandas_udf"
   ]
  },
  {
   "cell_type": "code",
   "execution_count": 47,
   "id": "bfcdbaa3-5a53-46bd-8ee9-0852b8417dcf",
   "metadata": {},
   "outputs": [],
   "source": [
    "@pandas_udf('long')\n",
    "def pandas_plusone(series):\n",
    "    return series+1"
   ]
  },
  {
   "cell_type": "code",
   "execution_count": 48,
   "id": "48f40aeb-93bf-4257-9ee0-7653a9c47a97",
   "metadata": {},
   "outputs": [
    {
     "name": "stderr",
     "output_type": "stream",
     "text": [
      "                                                                                \r"
     ]
    },
    {
     "name": "stdout",
     "output_type": "stream",
     "text": [
      "+-----------------+\n",
      "|pandas_plusone(a)|\n",
      "+-----------------+\n",
      "|                2|\n",
      "|                3|\n",
      "+-----------------+\n",
      "\n"
     ]
    }
   ],
   "source": [
    "df.select(pandas_plusone(df.a)).show()"
   ]
  },
  {
   "cell_type": "code",
   "execution_count": 49,
   "id": "b9b88616-f63c-4b8a-9b23-879e09a86d6d",
   "metadata": {},
   "outputs": [
    {
     "name": "stderr",
     "output_type": "stream",
     "text": [
      "                                                                                \r"
     ]
    },
    {
     "name": "stdout",
     "output_type": "stream",
     "text": [
      "+---+---+----+----------+-------------------+\n",
      "|  a|  b|   c|         d|                  e|\n",
      "+---+---+----+----------+-------------------+\n",
      "|  1|2.0|str1|2024-05-04|2024-05-04 12:00:00|\n",
      "+---+---+----+----------+-------------------+\n",
      "\n"
     ]
    }
   ],
   "source": [
    "def pandas_filter_func(iter):\n",
    "    for pd_dff in iter:\n",
    "        yield pd_dff[pd_dff.a==1]\n",
    "\n",
    "df.mapInPandas(pandas_filter_func, schema= df.schema).show()"
   ]
  },
  {
   "cell_type": "code",
   "execution_count": 50,
   "id": "b45ee3dd-73a9-449a-ab33-2efc70c9dae0",
   "metadata": {},
   "outputs": [
    {
     "data": {
      "text/plain": [
       "DataFrame[color: string, fruit: string, v1: bigint, v2: bigint]"
      ]
     },
     "execution_count": 50,
     "metadata": {},
     "output_type": "execute_result"
    }
   ],
   "source": [
    "df = spark.createDataFrame([\n",
    "    ['red', 'banana', 1, 10], \n",
    "    ['blue', 'banana', 2, 20], \n",
    "    ['red', 'carrot', 3, 30],\n",
    "    ['blue', 'grape', 4, 40], \n",
    "    ['red', 'carrot', 5, 50], \n",
    "    ['black', 'carrot', 6, 60],\n",
    "    ['red', 'banana', 7, 70], \n",
    "    ['red', 'grape', 8, 80]\n",
    "], schema = ['color','fruit','v1', 'v2']\n",
    ")\n",
    "df"
   ]
  },
  {
   "cell_type": "markdown",
   "id": "37debf21-56d3-4780-88db-0e65d3a644f4",
   "metadata": {},
   "source": [
    "# spark group by"
   ]
  },
  {
   "cell_type": "code",
   "execution_count": 51,
   "id": "56b22148-c6be-41a7-9934-d090bf993a17",
   "metadata": {},
   "outputs": [
    {
     "name": "stdout",
     "output_type": "stream",
     "text": [
      "+-----+-------+-------+\n",
      "|color|avg(v1)|avg(v2)|\n",
      "+-----+-------+-------+\n",
      "|  red|    4.8|   48.0|\n",
      "| blue|    3.0|   30.0|\n",
      "|black|    6.0|   60.0|\n",
      "+-----+-------+-------+\n",
      "\n"
     ]
    }
   ],
   "source": [
    "df.groupBy('color').avg().show()"
   ]
  },
  {
   "cell_type": "code",
   "execution_count": 59,
   "id": "2f39e187-689c-4cda-9d5f-f19531feecf7",
   "metadata": {},
   "outputs": [
    {
     "name": "stderr",
     "output_type": "stream",
     "text": [
      "[Stage 58:>                                                         (0 + 1) / 1]\r"
     ]
    },
    {
     "name": "stdout",
     "output_type": "stream",
     "text": [
      "+-----+------+---+---+\n",
      "|color| fruit| v1| v2|\n",
      "+-----+------+---+---+\n",
      "|black|carrot|  0| 60|\n",
      "| blue|banana| -1| 20|\n",
      "| blue| grape|  1| 40|\n",
      "|  red|banana| -3| 10|\n",
      "|  red|carrot| -1| 30|\n",
      "|  red|carrot|  0| 50|\n",
      "|  red|banana|  2| 70|\n",
      "|  red| grape|  3| 80|\n",
      "+-----+------+---+---+\n",
      "\n"
     ]
    },
    {
     "name": "stderr",
     "output_type": "stream",
     "text": [
      "   color   fruit  v1  v2\n",
      "0  black  carrot   6  60\n",
      "0    6\n",
      "Name: v1, dtype: int64\n",
      "6.0\n",
      " val     color   fruit   v1  v2\n",
      "0  black  carrot  0.0  60\n",
      "0    6\n",
      "Name: v1, dtype: int64\n",
      "  color   fruit  v1  v2\n",
      "0  blue  banana   2  20\n",
      "1  blue   grape   4  40\n",
      "0    2\n",
      "1    4\n",
      "Name: v1, dtype: int64\n",
      "3.0\n",
      " val    color   fruit   v1  v2\n",
      "0  blue  banana -1.0  20\n",
      "1  blue   grape  1.0  40\n",
      "0    2\n",
      "1    4\n",
      "Name: v1, dtype: int64\n",
      "  color   fruit  v1  v2\n",
      "0   red  banana   1  10\n",
      "1   red  carrot   3  30\n",
      "2   red  carrot   5  50\n",
      "3   red  banana   7  70\n",
      "4   red   grape   8  80\n",
      "0    1\n",
      "1    3\n",
      "2    5\n",
      "3    7\n",
      "4    8\n",
      "Name: v1, dtype: int64\n",
      "4.8\n",
      " val    color   fruit   v1  v2\n",
      "0   red  banana -3.8  10\n",
      "1   red  carrot -1.8  30\n",
      "2   red  carrot  0.2  50\n",
      "3   red  banana  2.2  70\n",
      "4   red   grape  3.2  80\n",
      "0    1\n",
      "1    3\n",
      "2    5\n",
      "3    7\n",
      "4    8\n",
      "Name: v1, dtype: int64\n",
      "                                                                                \r"
     ]
    }
   ],
   "source": [
    "def plus_mean(pandas_df):\n",
    "    print(pandas_df)\n",
    "    print(pandas_df.v1 )\n",
    "    print(pandas_df.v1.mean() )\n",
    "    print(' val ' ,pandas_df.assign(v1=pandas_df.v1 - pandas_df.v1.mean()))\n",
    "    print(pandas_df.v1 )\n",
    "    return pandas_df.assign(v1=pandas_df.v1 - pandas_df.v1.mean())\n",
    "\n",
    "df.groupby('color').applyInPandas(plus_mean, schema=df.schema).show()"
   ]
  },
  {
   "cell_type": "markdown",
   "id": "9d9b2b77-b478-4870-98b6-4651cfcfbd7e",
   "metadata": {},
   "source": [
    "# spark cogroup"
   ]
  },
  {
   "cell_type": "code",
   "execution_count": 64,
   "id": "5d2e8437-cfb0-4354-b2ba-03852ab66559",
   "metadata": {},
   "outputs": [
    {
     "data": {
      "text/plain": [
       "DataFrame[time: bigint, id: bigint, v1: double]"
      ]
     },
     "execution_count": 64,
     "metadata": {},
     "output_type": "execute_result"
    }
   ],
   "source": [
    "df1 = spark.createDataFrame([\n",
    "    (20000101, 1, 1.0), \n",
    "    (20000101, 2, 2.0), \n",
    "    (20000102, 1, 3.0), \n",
    "    (20000102, 2, 4.0)\n",
    "],\n",
    "    ('time', 'id', 'v1')\n",
    ")\n",
    "\n",
    "df2 = spark.createDataFrame([\n",
    "     (20000101, 1, 'x'), \n",
    "     (20000101, 2, 'y')\n",
    "],\n",
    "    ('time', 'id', 'v2')\n",
    ")\n"
   ]
  },
  {
   "cell_type": "code",
   "execution_count": 65,
   "id": "d13ef289-4f78-4101-8a6c-6cfadcb81af7",
   "metadata": {},
   "outputs": [
    {
     "name": "stdout",
     "output_type": "stream",
     "text": [
      "+--------+---+---+\n",
      "|    time| id| v1|\n",
      "+--------+---+---+\n",
      "|20000101|  1|1.0|\n",
      "|20000101|  2|2.0|\n",
      "|20000102|  1|3.0|\n",
      "|20000102|  2|4.0|\n",
      "+--------+---+---+\n",
      "\n"
     ]
    }
   ],
   "source": [
    "df1.show()"
   ]
  },
  {
   "cell_type": "code",
   "execution_count": 66,
   "id": "64132005-8cba-4f21-9f3a-8f58f043b3b7",
   "metadata": {},
   "outputs": [
    {
     "name": "stdout",
     "output_type": "stream",
     "text": [
      "+--------+---+---+\n",
      "|    time| id| v2|\n",
      "+--------+---+---+\n",
      "|20000101|  1|  x|\n",
      "|20000101|  2|  y|\n",
      "+--------+---+---+\n",
      "\n"
     ]
    }
   ],
   "source": [
    "df2.show()"
   ]
  },
  {
   "cell_type": "code",
   "execution_count": 67,
   "id": "1be9bf71-19a5-409b-9dd0-3f274bcd17de",
   "metadata": {},
   "outputs": [
    {
     "name": "stdout",
     "output_type": "stream",
     "text": [
      "+---+------------+-------+-------+\n",
      "| id|   avg(time)|avg(id)|avg(v1)|\n",
      "+---+------------+-------+-------+\n",
      "|  1|2.00001015E7|    1.0|    2.0|\n",
      "|  2|2.00001015E7|    2.0|    3.0|\n",
      "+---+------------+-------+-------+\n",
      "\n"
     ]
    }
   ],
   "source": [
    "df1.groupby('id').avg().show()"
   ]
  },
  {
   "cell_type": "code",
   "execution_count": 69,
   "id": "68929912-3ba6-4a5e-89d6-e8069c582ff9",
   "metadata": {},
   "outputs": [
    {
     "data": {
      "text/plain": [
       "DataFrame[time: bigint, id: bigint, v1: double]"
      ]
     },
     "execution_count": 69,
     "metadata": {},
     "output_type": "execute_result"
    }
   ],
   "source": [
    "df1"
   ]
  },
  {
   "cell_type": "code",
   "execution_count": 70,
   "id": "f1f2b89e-9170-44d0-91aa-cd9a6e120980",
   "metadata": {},
   "outputs": [
    {
     "name": "stderr",
     "output_type": "stream",
     "text": [
      "[Stage 75:>                                                         (0 + 1) / 1]\r"
     ]
    },
    {
     "name": "stdout",
     "output_type": "stream",
     "text": [
      "+--------+---+---+----+\n",
      "|    time| id| v1|  v2|\n",
      "+--------+---+---+----+\n",
      "|20000101|  1|1.0|   x|\n",
      "|20000102|  1|3.0|NULL|\n",
      "|20000101|  2|2.0|   y|\n",
      "|20000102|  2|4.0|NULL|\n",
      "+--------+---+---+----+\n",
      "\n"
     ]
    },
    {
     "name": "stderr",
     "output_type": "stream",
     "text": [
      "                                                                                \r"
     ]
    }
   ],
   "source": [
    "def merge_ordered(l, r):\n",
    "    return pd.merge_ordered(l,r)\n",
    "    \n",
    "df1.groupby('id').cogroup(df2.groupby('id')).applyInPandas(\n",
    "merge_ordered, schema='time int, id int, v1 double, v2 string').show()"
   ]
  },
  {
   "cell_type": "markdown",
   "id": "901ded85-c99e-4dce-8302-ad7dc70796a0",
   "metadata": {},
   "source": [
    "# spark write and read from file csv,parquet,orc"
   ]
  },
  {
   "cell_type": "code",
   "execution_count": 71,
   "id": "9f2da983-892f-4377-bb18-539887089129",
   "metadata": {},
   "outputs": [],
   "source": [
    "df = spark.createDataFrame([\n",
    "    ['red', 'banana', 1, 10], \n",
    "    ['blue', 'banana', 2, 20], \n",
    "    ['red', 'carrot', 3, 30],\n",
    "    ['blue', 'grape', 4, 40], \n",
    "    ['red', 'carrot', 5, 50], \n",
    "    ['black', 'carrot', 6, 60],\n",
    "    ['red', 'banana', 7, 70], \n",
    "    ['red', 'grape', 8, 80]\n",
    "], schema = ['color','fruit','v1', 'v2']\n",
    ")"
   ]
  },
  {
   "cell_type": "code",
   "execution_count": 72,
   "id": "2d8173dc-cfce-49f5-9267-6414cfe7c94d",
   "metadata": {},
   "outputs": [
    {
     "name": "stderr",
     "output_type": "stream",
     "text": [
      "                                                                                \r"
     ]
    }
   ],
   "source": [
    "df.write.csv('foo.csv', header=True)"
   ]
  },
  {
   "cell_type": "code",
   "execution_count": 74,
   "id": "a5c7ee2e-c897-4ba5-b544-03d2a973d39b",
   "metadata": {},
   "outputs": [
    {
     "name": "stdout",
     "output_type": "stream",
     "text": [
      "+-----+------+---+---+\n",
      "|color| fruit| v1| v2|\n",
      "+-----+------+---+---+\n",
      "|black|carrot|  6| 60|\n",
      "| blue|banana|  2| 20|\n",
      "|  red|banana|  1| 10|\n",
      "|  red|carrot|  3| 30|\n",
      "| blue| grape|  4| 40|\n",
      "|  red|carrot|  5| 50|\n",
      "|  red|banana|  7| 70|\n",
      "|  red| grape|  8| 80|\n",
      "+-----+------+---+---+\n",
      "\n"
     ]
    }
   ],
   "source": [
    "spark.read.csv('foo.csv', header=True).show()"
   ]
  },
  {
   "cell_type": "code",
   "execution_count": 75,
   "id": "4d4e91ca-5246-4298-992d-4976db107dfc",
   "metadata": {},
   "outputs": [
    {
     "name": "stderr",
     "output_type": "stream",
     "text": [
      "24/05/04 22:03:22 WARN MemoryManager: Total allocation exceeds 95.00% (1,020,054,720 bytes) of heap memory\n",
      "Scaling row group sizes to 95.00% for 8 writers\n",
      "                                                                                \r"
     ]
    },
    {
     "name": "stdout",
     "output_type": "stream",
     "text": [
      "+-----+------+---+---+\n",
      "|color| fruit| v1| v2|\n",
      "+-----+------+---+---+\n",
      "|black|carrot|  6| 60|\n",
      "| blue|banana|  2| 20|\n",
      "|  red|banana|  7| 70|\n",
      "| blue| grape|  4| 40|\n",
      "|  red|carrot|  5| 50|\n",
      "|  red|banana|  1| 10|\n",
      "|  red|carrot|  3| 30|\n",
      "|  red| grape|  8| 80|\n",
      "+-----+------+---+---+\n",
      "\n"
     ]
    }
   ],
   "source": [
    "df.write.parquet('bar.parquet')\n",
    "spark.read.parquet('bar.parquet').show()"
   ]
  },
  {
   "cell_type": "code",
   "execution_count": 76,
   "id": "e6a7073f-5b60-4dac-a805-ccf41348b091",
   "metadata": {},
   "outputs": [
    {
     "name": "stdout",
     "output_type": "stream",
     "text": [
      "+-----+------+---+---+\n",
      "|color| fruit| v1| v2|\n",
      "+-----+------+---+---+\n",
      "|  red|banana|  7| 70|\n",
      "|  red| grape|  8| 80|\n",
      "|black|carrot|  6| 60|\n",
      "| blue|banana|  2| 20|\n",
      "|  red|banana|  1| 10|\n",
      "|  red|carrot|  5| 50|\n",
      "|  red|carrot|  3| 30|\n",
      "| blue| grape|  4| 40|\n",
      "+-----+------+---+---+\n",
      "\n"
     ]
    }
   ],
   "source": [
    "df.write.orc('zoo.orc')\n",
    "spark.read.orc('zoo.orc').show()"
   ]
  },
  {
   "cell_type": "markdown",
   "id": "92157536-bad1-4d04-bd50-854c978d1bed",
   "metadata": {},
   "source": [
    "# process as Spark SQL"
   ]
  },
  {
   "cell_type": "code",
   "execution_count": 77,
   "id": "274141fb-3a49-4eda-b240-19d817d5fc64",
   "metadata": {},
   "outputs": [],
   "source": [
    "df.createOrReplaceTempView('fruit_table')"
   ]
  },
  {
   "cell_type": "code",
   "execution_count": 78,
   "id": "eaee971e-bdf8-45af-880d-9cdbf7250d27",
   "metadata": {},
   "outputs": [
    {
     "name": "stdout",
     "output_type": "stream",
     "text": [
      "+-----+------+---+---+\n",
      "|color| fruit| v1| v2|\n",
      "+-----+------+---+---+\n",
      "|  red|banana|  1| 10|\n",
      "| blue|banana|  2| 20|\n",
      "|  red|carrot|  3| 30|\n",
      "| blue| grape|  4| 40|\n",
      "|  red|carrot|  5| 50|\n",
      "|black|carrot|  6| 60|\n",
      "|  red|banana|  7| 70|\n",
      "|  red| grape|  8| 80|\n",
      "+-----+------+---+---+\n",
      "\n"
     ]
    }
   ],
   "source": [
    "spark.sql('select * from fruit_table').show()"
   ]
  },
  {
   "cell_type": "code",
   "execution_count": 87,
   "id": "bb0e0bb3-5d1c-4cc7-a42b-e3af91a046c4",
   "metadata": {},
   "outputs": [
    {
     "name": "stdout",
     "output_type": "stream",
     "text": [
      "+---------+\n",
      "|add_1(v1)|\n",
      "+---------+\n",
      "|        3|\n",
      "|        4|\n",
      "|        5|\n",
      "|        6|\n",
      "|        7|\n",
      "|        8|\n",
      "|        9|\n",
      "|       10|\n",
      "+---------+\n",
      "\n"
     ]
    }
   ],
   "source": [
    "@pandas_udf('long')\n",
    "def add_one_fun(series):\n",
    "    return series+2\n",
    "\n",
    "spark.udf.register('add_1',add_one_fun)\n",
    "spark.sql('select add_1(v1) from fruit_table').show()"
   ]
  },
  {
   "cell_type": "code",
   "execution_count": 89,
   "id": "65e5b66e-d084-477c-9225-3da2130bb6c5",
   "metadata": {},
   "outputs": [
    {
     "name": "stdout",
     "output_type": "stream",
     "text": [
      "+---------+\n",
      "|add_1(v1)|\n",
      "+---------+\n",
      "|        3|\n",
      "|        4|\n",
      "|        5|\n",
      "|        6|\n",
      "|        7|\n",
      "|        8|\n",
      "|        9|\n",
      "|       10|\n",
      "+---------+\n",
      "\n"
     ]
    }
   ],
   "source": [
    "from pyspark.sql.functions import expr\n",
    "\n",
    "df.selectExpr('add_1(v1)').show()"
   ]
  },
  {
   "cell_type": "code",
   "execution_count": 90,
   "id": "8c8cbeb9-9542-46a1-b5a7-b929416c2fdd",
   "metadata": {},
   "outputs": [
    {
     "name": "stdout",
     "output_type": "stream",
     "text": [
      "+--------------+\n",
      "|(count(1) > 0)|\n",
      "+--------------+\n",
      "|          true|\n",
      "+--------------+\n",
      "\n"
     ]
    }
   ],
   "source": [
    "df.select(expr('count(*)') > 0).show()"
   ]
  },
  {
   "cell_type": "code",
   "execution_count": null,
   "id": "d6eb027c-fbc3-41f0-9f56-616142e1a941",
   "metadata": {},
   "outputs": [],
   "source": []
  }
 ],
 "metadata": {
  "kernelspec": {
   "display_name": "Python 3 (ipykernel)",
   "language": "python",
   "name": "python3"
  },
  "language_info": {
   "codemirror_mode": {
    "name": "ipython",
    "version": 3
   },
   "file_extension": ".py",
   "mimetype": "text/x-python",
   "name": "python",
   "nbconvert_exporter": "python",
   "pygments_lexer": "ipython3",
   "version": "3.11.9"
  }
 },
 "nbformat": 4,
 "nbformat_minor": 5
}
